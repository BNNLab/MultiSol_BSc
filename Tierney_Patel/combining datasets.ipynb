{
 "cells": [
  {
   "cell_type": "code",
   "execution_count": 1,
   "metadata": {},
   "outputs": [
    {
     "name": "stdout",
     "output_type": "stream",
     "text": [
      "       ID                                        solute_name  \\\n",
      "0  ID0001                                 (-)-levonorgestrel   \n",
      "1  ID0002                                 (-)-levonorgestrel   \n",
      "2  ID0003         (1-diethylamino-1-oxopropan-2-yl) benzoate   \n",
      "3  ID0004        (1,1-dioxido-1,2-thiazinan-2-yl)acetic acid   \n",
      "4  ID0005  (1,2-dibromo-2,2-dichloroethyl) dimethyl phosp...   \n",
      "\n",
      "                                       solute_smiles solvent_name  \\\n",
      "0  O=C4\\C=C3/[C@@H]([C@H]2CC[C@]1([C@@H](CC[C@]1(...    1-octanol   \n",
      "1  O=C4\\C=C3/[C@@H]([C@H]2CC[C@]1([C@@H](CC[C@]1(...    1-octanol   \n",
      "2                   C(=O)(C(OC(=O)c1ccccc1)C)N(CC)CC        water   \n",
      "3                          S1(=O)(=O)N(CC(=O)O)CCCC1        water   \n",
      "4                       BrC(Cl)(Cl)C(Br)OP(=O)(OC)OC        water   \n",
      "\n",
      "  solvent_smiles              solute_inchikey       S_M LogS_M       MW  \n",
      "0      OCCCCCCCC  WWYNJERNGUHSAO-XUDSTZEENA-N  0.014791  -1.83  312.453  \n",
      "1      OCCCCCCCC  WWYNJERNGUHSAO-XUDSTZEENA-N  0.014791  -1.83  312.453  \n",
      "2              O  BZZFPIRKNVWTKJ-UHFFFAOYNA-N  0.008017 -2.096  249.310  \n",
      "3              O  HQKJYAGNQSMRJK-FZOZFQFYNA-N  0.260016 -0.585  193.224  \n",
      "4              O  BUYMVQAILCEWRR-UHFFFAOYNA-N  0.005248  -2.28  380.784  \n"
     ]
    }
   ],
   "source": [
    "import pandas as pd\n",
    "# Import CSV files as DataFrames\n",
    "df1 = pd.read_csv('/Users/stella/Documents/tierney/project/combining datasets/cross_solvent_solubility_dataset_BSc_2024.csv')\n",
    "df2 = pd.read_csv('/Users/stella/Documents/tierney/project/combining datasets/basf_inchi_logS.csv')\n",
    "\n",
    "# Drop column 'MP_C' from df2\n",
    "if 'MP_C' in df2.columns:\n",
    "    df2 = df2.drop(columns=['MP_C'])\n",
    "\n",
    "# Remove 'InChiKey=' from all entries in df2['solute_inchikey']\n",
    "df2['solute_inchikey'] = df2['solute_inchikey'].str.replace('InChIKey=', '', regex=False)\n",
    "\n",
    "# Combine df1 and df2, then remove duplicates\n",
    "combined_df = pd.concat([df1, df2]).drop_duplicates()\n",
    "\n",
    "# Display the first few rows of the merged DataFrame\n",
    "print(combined_df.head())\n",
    "\n",
    "# Save merged DataFrame to a CSV file\n",
    "combined_df.to_csv('combined_dataset.csv', index=False)"
   ]
  },
  {
   "cell_type": "code",
   "execution_count": 8,
   "metadata": {},
   "outputs": [
    {
     "name": "stdout",
     "output_type": "stream",
     "text": [
      "Number of unique solutes InChIKeys: 3352\n",
      "Number of unique solvents names: 189\n"
     ]
    }
   ],
   "source": [
    "import pandas as pd\n",
    "\n",
    "df = pd.read_csv(\"combined_dataset.csv\")\n",
    "# Count unique entries\n",
    "unique_solutes = df['solute_inchikey'].nunique()\n",
    "unique_solvents = df['solvent_name'].nunique()\n",
    "\n",
    "print(f\"Number of unique solutes InChIKeys: {unique_solutes}\")\n",
    "print(f\"Number of unique solvents names: {unique_solvents}\")\n"
   ]
  },
  {
   "cell_type": "code",
   "execution_count": 9,
   "metadata": {},
   "outputs": [
    {
     "name": "stdout",
     "output_type": "stream",
     "text": [
      "Total rows:13405\n",
      "total:0\n"
     ]
    },
    {
     "data": {
      "text/html": [
       "<div>\n",
       "<style scoped>\n",
       "    .dataframe tbody tr th:only-of-type {\n",
       "        vertical-align: middle;\n",
       "    }\n",
       "\n",
       "    .dataframe tbody tr th {\n",
       "        vertical-align: top;\n",
       "    }\n",
       "\n",
       "    .dataframe thead th {\n",
       "        text-align: right;\n",
       "    }\n",
       "</style>\n",
       "<table border=\"1\" class=\"dataframe\">\n",
       "  <thead>\n",
       "    <tr style=\"text-align: right;\">\n",
       "      <th></th>\n",
       "      <th>solvent_name</th>\n",
       "      <th>solvent_smiles</th>\n",
       "      <th>solute_inchikey</th>\n",
       "      <th>LogS</th>\n",
       "      <th>MW</th>\n",
       "    </tr>\n",
       "  </thead>\n",
       "  <tbody>\n",
       "    <tr>\n",
       "      <th>0</th>\n",
       "      <td>water</td>\n",
       "      <td>O</td>\n",
       "      <td>BZZFPIRKNVWTKJ-UHFFFAOYNA-N</td>\n",
       "      <td>-2.09599998</td>\n",
       "      <td>249.310</td>\n",
       "    </tr>\n",
       "    <tr>\n",
       "      <th>1</th>\n",
       "      <td>water</td>\n",
       "      <td>O</td>\n",
       "      <td>HQKJYAGNQSMRJK-FZOZFQFYNA-N</td>\n",
       "      <td>-0.585000001</td>\n",
       "      <td>193.224</td>\n",
       "    </tr>\n",
       "    <tr>\n",
       "      <th>2</th>\n",
       "      <td>water</td>\n",
       "      <td>O</td>\n",
       "      <td>BUYMVQAILCEWRR-UHFFFAOYNA-N</td>\n",
       "      <td>-2.279999967</td>\n",
       "      <td>380.784</td>\n",
       "    </tr>\n",
       "    <tr>\n",
       "      <th>3</th>\n",
       "      <td>water</td>\n",
       "      <td>O</td>\n",
       "      <td>UFMJMAPQIWYKER-UHFFFAOYNA-N</td>\n",
       "      <td>-1.815999988</td>\n",
       "      <td>392.357</td>\n",
       "    </tr>\n",
       "    <tr>\n",
       "      <th>4</th>\n",
       "      <td>water</td>\n",
       "      <td>O</td>\n",
       "      <td>WSORODGWGUUOBO-UHFFFAOYNA-N</td>\n",
       "      <td>-3.335999599</td>\n",
       "      <td>314.296</td>\n",
       "    </tr>\n",
       "  </tbody>\n",
       "</table>\n",
       "</div>"
      ],
      "text/plain": [
       "  solvent_name solvent_smiles              solute_inchikey          LogS  \\\n",
       "0        water              O  BZZFPIRKNVWTKJ-UHFFFAOYNA-N   -2.09599998   \n",
       "1        water              O  HQKJYAGNQSMRJK-FZOZFQFYNA-N  -0.585000001   \n",
       "2        water              O  BUYMVQAILCEWRR-UHFFFAOYNA-N  -2.279999967   \n",
       "3        water              O  UFMJMAPQIWYKER-UHFFFAOYNA-N  -1.815999988   \n",
       "4        water              O  WSORODGWGUUOBO-UHFFFAOYNA-N  -3.335999599   \n",
       "\n",
       "        MW  \n",
       "0  249.310  \n",
       "1  193.224  \n",
       "2  380.784  \n",
       "3  392.357  \n",
       "4  314.296  "
      ]
     },
     "execution_count": 9,
     "metadata": {},
     "output_type": "execute_result"
    }
   ],
   "source": [
    "import pandas as pd\n",
    "\n",
    "# Load the dataset\n",
    "file_path = \"/Users/stella/Documents/tierney/project/combined datasets/combined_data_no_duplicates_and_ave_duplicates.csv\"  # Replace with your file path\n",
    "df = pd.read_csv(file_path)\n",
    "print(f\"Total rows:{df.shape[0]}\")\n",
    "exact_duplicates=df[df.duplicated(keep=False)]\n",
    "print(f\"total:{exact_duplicates.shape[0]}\")\n",
    "df.head()"
   ]
  },
  {
   "cell_type": "code",
   "execution_count": null,
   "metadata": {},
   "outputs": [
    {
     "name": "stdout",
     "output_type": "stream",
     "text": [
      "Original dataset size: 17930\n",
      "Filtered dataset size: 17289\n",
      "Number of rows removed: 641\n"
     ]
    }
   ],
   "source": [
    "import pandas as pd\n",
    "\n",
    "combined_df = pd.read_csv(\"/Users/stella/Documents/tierney/project/combined_data.csv\")\n",
    "# Filter out rows where solute_name contains \"DONOTUSE\"\n",
    "filtered_combined_df = combined_df[~combined_df[\"solute_name\"].str.contains(\"DONOTUSE\", case=False, na=False)]\n",
    "# Filter out rows where solvent_name contains a \"/\"\n",
    "filtered_combined_df = combined_df[~combined_df[\"solvent_name\"].str.contains(\"/\", na=False)]\n",
    "filtered_combined_df.to_csv(\"filtered_combined_data.csv\", index=False)\n",
    "print(f\"Original dataset size: {len(combined_df)}\")\n",
    "print(f\"Filtered dataset size: {len(filtered_combined_df)}\")\n",
    "print(f\"Number of rows removed: {len(combined_df) - len(filtered_combined_df)}\")"
   ]
  },
  {
   "cell_type": "code",
   "execution_count": 4,
   "metadata": {},
   "outputs": [],
   "source": [
    "#  Read in the CSV file\n",
    "df = pd.read_csv(\"filtered_combined_data.csv\")\n",
    "\n",
    "# Remove specified columns\n",
    "df = df.drop(columns=['solute_name', 'S_M', 'ID', 'MW'])\n",
    "\n",
    "# Identify duplicate rows except for 'LogS' and 'ID'\n",
    "columns_to_check = [col for col in df.columns if col not in ['LogS']]\n",
    "duplicates = df[df.duplicated(subset=columns_to_check, keep=False)]\n",
    "\n",
    "# Save duplicate rows\n",
    "duplicates.to_csv('filtered_combined_dataset_duplicates.csv', index=False)"
   ]
  },
  {
   "cell_type": "code",
   "execution_count": 5,
   "metadata": {},
   "outputs": [
    {
     "name": "stderr",
     "output_type": "stream",
     "text": [
      "/var/folders/m2/ptj22ckn1lq9dwc6k6bwvz580000gn/T/ipykernel_38154/2322379026.py:6: SettingWithCopyWarning: \n",
      "A value is trying to be set on a copy of a slice from a DataFrame.\n",
      "Try using .loc[row_indexer,col_indexer] = value instead\n",
      "\n",
      "See the caveats in the documentation: https://pandas.pydata.org/pandas-docs/stable/user_guide/indexing.html#returning-a-view-versus-a-copy\n",
      "  duplicates['LogS_M'] = pd.to_numeric(duplicates['LogS_M'], errors='coerce')\n"
     ]
    }
   ],
   "source": [
    "# Remove original duplicate rows from the dataframe\n",
    "df_no_duplicates = df.drop(duplicates.index)\n",
    "df_no_duplicates.to_csv('filtered_combined_dataset_no_duplicates.csv', index=False)\n",
    "\n",
    "# Ensure 'LogS' is numeric before averaging\n",
    "duplicates['LogS_M'] = pd.to_numeric(duplicates['LogS_M'], errors='coerce')\n",
    "\n",
    "# Compute the average 'LogS' for duplicate groups\n",
    "averaged_duplicates = duplicates.groupby(columns_to_check, as_index=False)['LogS_M'].mean()\n",
    "\n",
    "# Append the averaged rows\n",
    "df_no_duplicates = pd.concat([df_no_duplicates, averaged_duplicates], ignore_index=True)\n",
    "\n",
    "# Save the final dataframe\n",
    "df_no_duplicates.to_csv('final_combined_data.csv', index=False)"
   ]
  },
  {
   "cell_type": "code",
   "execution_count": 6,
   "metadata": {},
   "outputs": [
    {
     "name": "stdout",
     "output_type": "stream",
     "text": [
      "Total rows: 9316\n",
      "total: 0\n"
     ]
    },
    {
     "data": {
      "text/html": [
       "<div>\n",
       "<style scoped>\n",
       "    .dataframe tbody tr th:only-of-type {\n",
       "        vertical-align: middle;\n",
       "    }\n",
       "\n",
       "    .dataframe tbody tr th {\n",
       "        vertical-align: top;\n",
       "    }\n",
       "\n",
       "    .dataframe thead th {\n",
       "        text-align: right;\n",
       "    }\n",
       "</style>\n",
       "<table border=\"1\" class=\"dataframe\">\n",
       "  <thead>\n",
       "    <tr style=\"text-align: right;\">\n",
       "      <th></th>\n",
       "      <th>solute_smiles</th>\n",
       "      <th>solvent_name</th>\n",
       "      <th>solvent_smiles</th>\n",
       "      <th>solute_inchikey</th>\n",
       "      <th>LogS_M</th>\n",
       "    </tr>\n",
       "  </thead>\n",
       "  <tbody>\n",
       "    <tr>\n",
       "      <th>0</th>\n",
       "      <td>FC(F)(F)c1cc(c(cc1)NC(C(C)C)C(=O)OC(c2cc(ccc2)...</td>\n",
       "      <td>water</td>\n",
       "      <td>O</td>\n",
       "      <td>INISTDXBRIBGOC-UHFFFAOYNA-N</td>\n",
       "      <td>-8.0</td>\n",
       "    </tr>\n",
       "    <tr>\n",
       "      <th>1</th>\n",
       "      <td>CC(Cc1cccc(c1)OC)NC(C)Cc2ccccc2OC</td>\n",
       "      <td>water</td>\n",
       "      <td>O</td>\n",
       "      <td>HSNNLWPVPBKGQW-UHFFFAOYNA-N</td>\n",
       "      <td>-3.0</td>\n",
       "    </tr>\n",
       "    <tr>\n",
       "      <th>2</th>\n",
       "      <td>OCCCC</td>\n",
       "      <td>water</td>\n",
       "      <td>O</td>\n",
       "      <td>LRHPLDYGYMQRHN-UHFFFAOYNA-N</td>\n",
       "      <td>0.0</td>\n",
       "    </tr>\n",
       "    <tr>\n",
       "      <th>3</th>\n",
       "      <td>C(CCC)O</td>\n",
       "      <td>water</td>\n",
       "      <td>O</td>\n",
       "      <td>LRHPLDYGYMQRHN-UHFFFAOYNA-N</td>\n",
       "      <td>0.0</td>\n",
       "    </tr>\n",
       "    <tr>\n",
       "      <th>4</th>\n",
       "      <td>ClCC(C)C</td>\n",
       "      <td>water</td>\n",
       "      <td>O</td>\n",
       "      <td>QTBFPMKWQKYFLR-UHFFFAOYNA-N</td>\n",
       "      <td>-2.0</td>\n",
       "    </tr>\n",
       "  </tbody>\n",
       "</table>\n",
       "</div>"
      ],
      "text/plain": [
       "                                       solute_smiles solvent_name  \\\n",
       "0  FC(F)(F)c1cc(c(cc1)NC(C(C)C)C(=O)OC(c2cc(ccc2)...        water   \n",
       "1                  CC(Cc1cccc(c1)OC)NC(C)Cc2ccccc2OC        water   \n",
       "2                                              OCCCC        water   \n",
       "3                                            C(CCC)O        water   \n",
       "4                                           ClCC(C)C        water   \n",
       "\n",
       "  solvent_smiles              solute_inchikey LogS_M  \n",
       "0              O  INISTDXBRIBGOC-UHFFFAOYNA-N   -8.0  \n",
       "1              O  HSNNLWPVPBKGQW-UHFFFAOYNA-N   -3.0  \n",
       "2              O  LRHPLDYGYMQRHN-UHFFFAOYNA-N    0.0  \n",
       "3              O  LRHPLDYGYMQRHN-UHFFFAOYNA-N    0.0  \n",
       "4              O  QTBFPMKWQKYFLR-UHFFFAOYNA-N   -2.0  "
      ]
     },
     "execution_count": 6,
     "metadata": {},
     "output_type": "execute_result"
    }
   ],
   "source": [
    "import pandas as pd\n",
    "import os\n",
    "\n",
    "# Load the dataset\n",
    "file_path = \"/Users/stella/Documents/tierney/project/combined datasets/final_combined_data.csv\"  # Replace with your file path\n",
    "\n",
    "# Check if the file exists\n",
    "if not os.path.exists(file_path):\n",
    "\t# Create the file from the existing dataframe\n",
    "\tdf_no_duplicates.to_csv(file_path, index=False)\n",
    "\n",
    "# Load the dataset\n",
    "df = pd.read_csv(file_path)\n",
    "print(f\"Total rows: {df.shape[0]}\")\n",
    "exact_duplicates = df[df.duplicated(keep=False)]\n",
    "print(f\"total: {exact_duplicates.shape[0]}\")\n",
    "df.head()"
   ]
  },
  {
   "cell_type": "code",
   "execution_count": 9,
   "metadata": {},
   "outputs": [
    {
     "name": "stdout",
     "output_type": "stream",
     "text": [
      "Total rows before processing: 9316\n",
      "Total duplicate rows based on solvent_name and solute_inchikey: 3316\n",
      "Total rows after processing: 7303\n",
      "Number of unique solvent-solute pairs: 7303\n",
      "Cleaned dataset saved to: /Users/stella/Documents/tierney/project/notebooks/final_combined_data_cleaned.csv\n"
     ]
    }
   ],
   "source": [
    "import pandas as pd\n",
    "\n",
    "# Load the dataset\n",
    "file_path = \"/Users/stella/Documents/tierney/project/notebooks/final_combined_data.csv\"  # Replace with your file path\n",
    "df = pd.read_csv(file_path)\n",
    "\n",
    "# Print initial statistics\n",
    "print(f\"Total rows before processing: {df.shape[0]}\")\n",
    "\n",
    "# Identify duplicates based on solvent_name and solute_inchikey\n",
    "duplicates = df[df.duplicated(subset=['solvent_name', 'solute_inchikey'], keep=False)]\n",
    "print(f\"Total duplicate rows based on solvent_name and solute_inchikey: {duplicates.shape[0]}\")\n",
    "\n",
    "# Ensure 'LogS_M' is numeric before averaging\n",
    "df['LogS_M'] = pd.to_numeric(df['LogS_M'], errors='coerce')\n",
    "\n",
    "# Group by solvent_name and solute_inchikey, calculate the mean of LogS_M, and keep the first row\n",
    "df_cleaned = df.groupby(['solvent_name', 'solute_inchikey'], as_index=False).agg(\n",
    "    {\n",
    "        'LogS_M': 'mean',  # Average LogS_M for duplicates\n",
    "        **{col: 'first' for col in df.columns if col not in ['LogS_M']}  # Keep the first value for all other columns\n",
    "    }\n",
    ")\n",
    "\n",
    "# Print final statistics\n",
    "print(f\"Total rows after processing: {df_cleaned.shape[0]}\")\n",
    "print(f\"Number of unique solvent-solute pairs: {df_cleaned[['solvent_name', 'solute_inchikey']].drop_duplicates().shape[0]}\")\n",
    "\n",
    "# Save the cleaned dataset to a new CSV file\n",
    "output_path = \"/Users/stella/Documents/tierney/project/notebooks/final_combined_data_cleaned.csv\"\n",
    "df_cleaned.to_csv(output_path, index=False)\n",
    "print(f\"Cleaned dataset saved to: {output_path}\")"
   ]
  },
  {
   "cell_type": "code",
   "execution_count": null,
   "metadata": {},
   "outputs": [
    {
     "name": "stdout",
     "output_type": "stream",
     "text": [
      "Total rows:7303\n",
      "total:0\n"
     ]
    },
    {
     "data": {
      "text/html": [
       "<div>\n",
       "<style scoped>\n",
       "    .dataframe tbody tr th:only-of-type {\n",
       "        vertical-align: middle;\n",
       "    }\n",
       "\n",
       "    .dataframe tbody tr th {\n",
       "        vertical-align: top;\n",
       "    }\n",
       "\n",
       "    .dataframe thead th {\n",
       "        text-align: right;\n",
       "    }\n",
       "</style>\n",
       "<table border=\"1\" class=\"dataframe\">\n",
       "  <thead>\n",
       "    <tr style=\"text-align: right;\">\n",
       "      <th></th>\n",
       "      <th>LogS_M</th>\n",
       "      <th>solute_smiles</th>\n",
       "      <th>solvent_name</th>\n",
       "      <th>solvent_smiles</th>\n",
       "      <th>solute_inchikey</th>\n",
       "    </tr>\n",
       "  </thead>\n",
       "  <tbody>\n",
       "    <tr>\n",
       "      <th>0</th>\n",
       "      <td>-1.698970</td>\n",
       "      <td>O=Cc2cc3c(c1c2cccc1)cccc3</td>\n",
       "      <td>1,1,2-trichlorotrifluoroethane</td>\n",
       "      <td>ClC(F)(F)C(Cl)(Cl)F</td>\n",
       "      <td>QECIGCMPORCORE-UHFFFAOYNA-N</td>\n",
       "    </tr>\n",
       "    <tr>\n",
       "      <th>1</th>\n",
       "      <td>-0.160929</td>\n",
       "      <td>Fc2c1c(F)c(F)c(F)c(F)c1c(F)c(F)c2F</td>\n",
       "      <td>1,2-dibromoethane</td>\n",
       "      <td>BrCCBr</td>\n",
       "      <td>JDCMOHAFGDQQJX-UHFFFAOYNA-N</td>\n",
       "    </tr>\n",
       "    <tr>\n",
       "      <th>2</th>\n",
       "      <td>-0.338571</td>\n",
       "      <td>Fc1c(c(F)c(F)c(F)c1F)c2c(F)c(F)c(F)c(F)c2F</td>\n",
       "      <td>1,2-dibromoethane</td>\n",
       "      <td>BrCCBr</td>\n",
       "      <td>ONUFSRWQCKNVSL-UHFFFAOYNA-N</td>\n",
       "    </tr>\n",
       "    <tr>\n",
       "      <th>3</th>\n",
       "      <td>0.490035</td>\n",
       "      <td>c1ccc2ccccc2c1</td>\n",
       "      <td>1,2-dibromoethane</td>\n",
       "      <td>BrCCBr</td>\n",
       "      <td>UFWIBTONFRDIAS-UHFFFAOYNA-N</td>\n",
       "    </tr>\n",
       "    <tr>\n",
       "      <th>4</th>\n",
       "      <td>0.220052</td>\n",
       "      <td>ClC(Cl)(Cl)C(Cl)(Cl)Cl</td>\n",
       "      <td>1,2-dibromoethane</td>\n",
       "      <td>BrCCBr</td>\n",
       "      <td>VHHHONWQHHHLTI-UHFFFAOYNA-N</td>\n",
       "    </tr>\n",
       "  </tbody>\n",
       "</table>\n",
       "</div>"
      ],
      "text/plain": [
       "     LogS_M                               solute_smiles  \\\n",
       "0 -1.698970                   O=Cc2cc3c(c1c2cccc1)cccc3   \n",
       "1 -0.160929          Fc2c1c(F)c(F)c(F)c(F)c1c(F)c(F)c2F   \n",
       "2 -0.338571  Fc1c(c(F)c(F)c(F)c1F)c2c(F)c(F)c(F)c(F)c2F   \n",
       "3  0.490035                              c1ccc2ccccc2c1   \n",
       "4  0.220052                      ClC(Cl)(Cl)C(Cl)(Cl)Cl   \n",
       "\n",
       "                     solvent_name       solvent_smiles  \\\n",
       "0  1,1,2-trichlorotrifluoroethane  ClC(F)(F)C(Cl)(Cl)F   \n",
       "1               1,2-dibromoethane               BrCCBr   \n",
       "2               1,2-dibromoethane               BrCCBr   \n",
       "3               1,2-dibromoethane               BrCCBr   \n",
       "4               1,2-dibromoethane               BrCCBr   \n",
       "\n",
       "               solute_inchikey  \n",
       "0  QECIGCMPORCORE-UHFFFAOYNA-N  \n",
       "1  JDCMOHAFGDQQJX-UHFFFAOYNA-N  \n",
       "2  ONUFSRWQCKNVSL-UHFFFAOYNA-N  \n",
       "3  UFWIBTONFRDIAS-UHFFFAOYNA-N  \n",
       "4  VHHHONWQHHHLTI-UHFFFAOYNA-N  "
      ]
     },
     "execution_count": 10,
     "metadata": {},
     "output_type": "execute_result"
    }
   ],
   "source": [
    "import pandas as pd\n",
    "\n",
    "# Load the dataset\n",
    "file_path = \"/Users/stella/Documents/tierney/project/notebooks/final_combined_data_cleaned.csv\"  \n",
    "df = pd.read_csv(file_path)\n",
    "print(f\"Total rows:{df.shape[0]}\")\n",
    "exact_duplicates=df[df.duplicated(keep=False)]\n",
    "print(f\"total:{exact_duplicates.shape[0]}\")\n",
    "df.head()"
   ]
  },
  {
   "cell_type": "code",
   "execution_count": null,
   "metadata": {},
   "outputs": [
    {
     "name": "stdout",
     "output_type": "stream",
     "text": [
      "Number of unique solutes InChIKeys: 3351\n",
      "Number of unique solvents names: 177\n"
     ]
    }
   ],
   "source": [
    "import pandas as pd\n",
    "\n",
    "df = pd.read_csv(\"/Users/stella/Downloads/tierney/project/combined_data_cleaned.csv\")\n",
    "# Count unique entries\n",
    "unique_solutes = df['solute_inchikey'].nunique()\n",
    "unique_solvents = df['solvent_name'].nunique()\n",
    "\n",
    "print(f\"Number of unique solutes InChIKeys: {unique_solutes}\")\n",
    "print(f\"Number of unique solvents names: {unique_solvents}\")\n"
   ]
  }
 ],
 "metadata": {
  "kernelspec": {
   "display_name": "base",
   "language": "python",
   "name": "python3"
  },
  "language_info": {
   "codemirror_mode": {
    "name": "ipython",
    "version": 3
   },
   "file_extension": ".py",
   "mimetype": "text/x-python",
   "name": "python",
   "nbconvert_exporter": "python",
   "pygments_lexer": "ipython3",
   "version": "3.12.7"
  }
 },
 "nbformat": 4,
 "nbformat_minor": 2
}
