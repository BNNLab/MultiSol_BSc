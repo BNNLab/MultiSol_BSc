{
 "cells": [
  {
   "cell_type": "code",
   "execution_count": 2,
   "metadata": {},
   "outputs": [
    {
     "name": "stdout",
     "output_type": "stream",
     "text": [
      "XYZ file generation complete!\n"
     ]
    }
   ],
   "source": [
    "import pandas as pd\n",
    "from rdkit import Chem\n",
    "from rdkit.Chem import AllChem\n",
    "import os\n",
    "from collections import defaultdict\n",
    "\n",
    "# Folder to save XYZ files\n",
    "xyz_folder = \"/Users/stella/Documents/tierney/project/notebooks/xyz\"\n",
    "os.makedirs(xyz_folder, exist_ok=True)\n",
    "\n",
    "# Load the dataset\n",
    "file_path = \"/Users/stella/Documents/tierney/project/final_reduced_dataset.csv\"  \n",
    "df = pd.read_csv(file_path)\n",
    "\n",
    "# Log file for failed SMILES\n",
    "failed_log = \"failed_smiles.txt\"\n",
    "\n",
    "# Track duplicate counts for xyz\n",
    "xyz_counter = defaultdict(int)\n",
    "\n",
    "def smiles_to_xyz(smiles, index, role, inchikey):\n",
    "    \"\"\"Convert SMILES to XYZ file and handle errors.\"\"\"\n",
    "    try:\n",
    "        mol = Chem.MolFromSmiles(smiles)\n",
    "        if mol is None:\n",
    "            raise ValueError(f\"Invalid SMILES: {smiles}\")\n",
    "\n",
    "        # Skip kekulization for single-atom molecules\n",
    "        if mol.GetNumAtoms() == 1:\n",
    "            print(f\"Skipping kekulization for single-atom molecule: {smiles}\")\n",
    "        else:\n",
    "            # Attempt to sanitize (skip kekulization if it fails)\n",
    "            try:\n",
    "                Chem.SanitizeMol(mol, Chem.SANITIZE_ALL ^ Chem.SANITIZE_KEKULIZE)\n",
    "            except:\n",
    "                print(f\"Skipping kekulization for {smiles}\")\n",
    "\n",
    "        # Generate 3D coordinates\n",
    "        mol = Chem.AddHs(mol)\n",
    "        AllChem.EmbedMolecule(mol)\n",
    "        AllChem.MMFFOptimizeMolecule(mol)\n",
    "\n",
    "        # Save XYZ file with the new naming convention\n",
    "        current_count = xyz_counter[inchikey]\n",
    "        xyz_filename = os.path.join(xyz_folder, f\"PM6_{inchikey}_{current_count}.xyz\")\n",
    "        \n",
    "        # Ensure the filename is unique\n",
    "        while os.path.exists(xyz_filename):\n",
    "            current_count += 1\n",
    "            xyz_filename = os.path.join(xyz_folder, f\"PM6_{inchikey}_{current_count}.xyz\")\n",
    "        \n",
    "        with open(xyz_filename, \"w\") as f:\n",
    "            f.write(f\"{mol.GetNumAtoms()}\\n\\n\")\n",
    "            for atom in mol.GetAtoms():\n",
    "                pos = mol.GetConformer().GetAtomPosition(atom.GetIdx())\n",
    "                f.write(f\"{atom.GetSymbol()} {pos.x} {pos.y} {pos.z}\\n\")\n",
    "        \n",
    "        # Update the counter for the next occurrence\n",
    "        xyz_counter[inchikey] = current_count + 1\n",
    "\n",
    "    except Exception as e:\n",
    "        # Log failure\n",
    "        with open(failed_log, \"a\") as log_file:\n",
    "            log_file.write(f\"{role}: {smiles}\\t{str(e)}\\n\")\n",
    "        print(f\"Failed to process {role} SMILES: {smiles} - {e}\")\n",
    "\n",
    "# Process all rows in the dataset\n",
    "for idx, row in df.iterrows():\n",
    "    solute_smiles = row[\"solute_smiles\"]\n",
    "    solute_inchikey = row[\"solute_inchikey\"]\n",
    "    \n",
    "    # Process solute\n",
    "    smiles_to_xyz(solute_smiles, idx, \"solute\", solute_inchikey)\n",
    "\n",
    "print(\"XYZ file generation complete!\")"
   ]
  }
 ],
 "metadata": {
  "kernelspec": {
   "display_name": "base",
   "language": "python",
   "name": "python3"
  },
  "language_info": {
   "codemirror_mode": {
    "name": "ipython",
    "version": 3
   },
   "file_extension": ".py",
   "mimetype": "text/x-python",
   "name": "python",
   "nbconvert_exporter": "python",
   "pygments_lexer": "ipython3",
   "version": "3.12.7"
  }
 },
 "nbformat": 4,
 "nbformat_minor": 2
}
