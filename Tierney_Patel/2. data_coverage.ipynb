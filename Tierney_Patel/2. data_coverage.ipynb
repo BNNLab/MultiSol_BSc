{
 "cells": [
  {
   "cell_type": "code",
   "execution_count": 37,
   "metadata": {},
   "outputs": [
    {
     "name": "stdout",
     "output_type": "stream",
     "text": [
      "Number of unique solutes InChIKeys: 3351\n",
      "Number of unique solvents names: 177\n",
      "Number of rows in the filtered dataset: 7303\n"
     ]
    }
   ],
   "source": [
    "import pandas as pd\n",
    "\n",
    "# Load the dataset\n",
    "df = pd.read_csv(\"/Users/stella/Documents/tierney/project/notebooks/final_combined_data_cleaned.csv\")\n",
    "# Count unique entries\n",
    "unique_solutes = df['solute_inchikey'].nunique()\n",
    "unique_solvents = df['solvent_name'].nunique()\n",
    "\n",
    "print(f\"Number of unique solutes InChIKeys: {unique_solutes}\")\n",
    "print(f\"Number of unique solvents names: {unique_solvents}\")\n",
    "print(f\"Number of rows in the filtered dataset: {len(df)}\")"
   ]
  },
  {
   "cell_type": "code",
   "execution_count": null,
   "metadata": {},
   "outputs": [
    {
     "name": "stdout",
     "output_type": "stream",
     "text": [
      "Number of possible combinations of solute and solvent:  593127\n",
      "Percentage of data coverage:  1.231270874534459 %\n"
     ]
    }
   ],
   "source": [
    "# Calculate total number of possible combinations\n",
    "combinations = 177*3351\n",
    "percentage = len(df['LogS_M'])*100/combinations\n",
    "print ('Number of possible combinations of solute and solvent: ', combinations)\n",
    "print ('Percentage of data coverage: ', percentage, '%')\n"
   ]
  },
  {
   "cell_type": "code",
   "execution_count": 15,
   "metadata": {},
   "outputs": [
    {
     "name": "stdout",
     "output_type": "stream",
     "text": [
      "Total solute data points for each solvent:\n",
      "                       solvent_name  total_solute_data_points\n",
      "176                           water                      3047\n",
      "136                        methanol                       313\n",
      "21                        1-octanol                       268\n",
      "114                         ethanol                       261\n",
      "67                     acetonitrile                       152\n",
      "..                              ...                       ...\n",
      "44                  2-methylpentane                         1\n",
      "34                  2-chloroaniline                         1\n",
      "32                       2-butanone                         1\n",
      "30             2-bromobutanoic acid                         1\n",
      "0    1,1,2-trichlorotrifluoroethane                         1\n",
      "\n",
      "[177 rows x 2 columns]\n",
      "\n",
      "Total solute data points for water: 3047\n",
      "\n",
      "Total solute data points for acetonitrile: 152\n"
     ]
    }
   ],
   "source": [
    "import pandas as pd\n",
    "\n",
    "# Load the dataset\n",
    "df = pd.read_csv('/Users/stella/Documents/tierney/project/notebooks/final_combined_data_cleaned.csv')\n",
    "\n",
    "# Group by solvent_name and count the total number of solute data points for each solvent\n",
    "solvent_solute_counts = df.groupby('solvent_name').size().reset_index(name='total_solute_data_points')\n",
    "\n",
    "# Sort by total_solute_data_points in descending order\n",
    "solvent_solute_counts = solvent_solute_counts.sort_values('total_solute_data_points', ascending=False)\n",
    "\n",
    "# Display the full list of solvents and their total solute data points\n",
    "print(\"Total solute data points for each solvent:\")\n",
    "print(solvent_solute_counts)\n",
    "\n",
    "# Example: Check how many solute data points are associated with water\n",
    "water_count = solvent_solute_counts[solvent_solute_counts['solvent_name'] == 'water']['total_solute_data_points'].values[0]\n",
    "print(f\"\\nTotal solute data points for water: {water_count}\")\n",
    "\n",
    "acetonitrile_count = solvent_solute_counts[solvent_solute_counts['solvent_name'] == 'acetonitrile']['total_solute_data_points'].values[0]\n",
    "print(f\"\\nTotal solute data points for acetonitrile: {acetonitrile_count}\")"
   ]
  },
  {
   "cell_type": "code",
   "execution_count": 16,
   "metadata": {},
   "outputs": [
    {
     "name": "stdout",
     "output_type": "stream",
     "text": [
      "Filtered dataset saved to 'reduced_dataset_threshold_10.csv'\n",
      "Number of rows in the filtered dataset: 7015\n",
      "Number of unique solvents in the filtered dataset: 78\n",
      "Number of unique solutes InChIKeys: 3351\n"
     ]
    }
   ],
   "source": [
    "import pandas as pd\n",
    "\n",
    "# Load the dataset\n",
    "df = pd.read_csv('/Users/stella/Documents/tierney/project/notebooks/final_combined_data_cleaned.csv')\n",
    "\n",
    "# Group by solvent_name and count the total number of solute data points for each solvent\n",
    "solvent_solute_counts = df.groupby('solvent_name').size().reset_index(name='total_solute_data_points')\n",
    "\n",
    "# Filter solvents with 10 or more solute data points\n",
    "threshold = 10\n",
    "solvents_to_keep = solvent_solute_counts[solvent_solute_counts['total_solute_data_points'] >= threshold]['solvent_name']\n",
    "\n",
    "# Filter the original dataset to keep only rows with solvents in the \"solvents_to_keep\" list\n",
    "filtered_df = df[df['solvent_name'].isin(solvents_to_keep)]\n",
    "\n",
    "# Save the filtered dataset to a new CSV file\n",
    "filtered_df.to_csv('reduced_dataset_threshold_10.csv', index=False)\n",
    "\n",
    "print(f\"Filtered dataset saved to 'reduced_dataset_threshold_10.csv'\")\n",
    "print(f\"Number of rows in the filtered dataset: {len(filtered_df)}\")\n",
    "print(f\"Number of unique solvents in the filtered dataset: {filtered_df['solvent_name'].nunique()}\")\n",
    "print(f\"Number of unique solutes InChIKeys: {unique_solutes}\")"
   ]
  },
  {
   "cell_type": "code",
   "execution_count": 17,
   "metadata": {},
   "outputs": [
    {
     "name": "stdout",
     "output_type": "stream",
     "text": [
      "Number of possible combinations of solute and solvent:  261378\n",
      "Percentage of data coverage:  2.794037753751272 %\n"
     ]
    }
   ],
   "source": [
    "# Calculate total number of possible combinations\n",
    "combinations = 78*3351\n",
    "percentage = len(df['LogS_M'])*100/combinations\n",
    "print ('Number of possible combinations of solute and solvent: ', combinations)\n",
    "print ('Percentage of data coverage: ', percentage, '%')"
   ]
  },
  {
   "cell_type": "code",
   "execution_count": 23,
   "metadata": {},
   "outputs": [
    {
     "name": "stdout",
     "output_type": "stream",
     "text": [
      "Filtered dataset saved to 'reduced_dataset_solute_4.csv'\n",
      "Number of rows in the filtered dataset: 3898\n",
      "Number of unique solvents in the filtered dataset: 177\n",
      "Number of unique solutes in the filtered dataset: 284\n"
     ]
    }
   ],
   "source": [
    "import pandas as pd\n",
    "\n",
    "# Load the dataset\n",
    "df = pd.read_csv('/Users/stella/Documents/tierney/project/notebooks/final_combined_data_cleaned.csv')\n",
    "\n",
    "# Group by solute_inchikey and count the total number of data points for each solute\n",
    "solute_counts = df.groupby('solute_inchikey').size().reset_index(name='total_data_points')\n",
    "\n",
    "# Filter solutes with 4 or more data points\n",
    "threshold = 4\n",
    "solutes_to_keep = solute_counts[solute_counts['total_data_points'] >= threshold]['solute_inchikey']\n",
    "\n",
    "# Filter the original dataset to keep only rows with solutes in the \"solutes_to_keep\" list\n",
    "filtered_df = df[df['solute_inchikey'].isin(solutes_to_keep)]\n",
    "\n",
    "# Save the filtered dataset to a new CSV file\n",
    "filtered_df.to_csv('reduced_dataset_solute_4.csv', index=False)\n",
    "\n",
    "# Print summary statistics\n",
    "print(f\"Filtered dataset saved to 'reduced_dataset_solute_4.csv'\")\n",
    "print(f\"Number of rows in the filtered dataset: {len(filtered_df)}\")\n",
    "print(f\"Number of unique solvents in the filtered dataset: {filtered_df['solvent_name'].nunique()}\")\n",
    "print(f\"Number of unique solutes in the filtered dataset: {filtered_df['solute_inchikey'].nunique()}\")"
   ]
  },
  {
   "cell_type": "code",
   "execution_count": null,
   "metadata": {},
   "outputs": [
    {
     "name": "stdout",
     "output_type": "stream",
     "text": [
      "Number of possible combinations of solute and solvent:  22152\n",
      "Percentage of data coverage:  31.667569519682196 %\n"
     ]
    }
   ],
   "source": [
    "# Calculate total number of possible combinations\n",
    "combinations = 102*3351\n",
    "percentage = len(df['LogS_M'])*100/combinations\n",
    "print ('Number of possible combinations of solute and solvent: ', combinations)\n",
    "print ('Percentage of data coverage: ', percentage, '%')"
   ]
  },
  {
   "cell_type": "code",
   "execution_count": null,
   "metadata": {},
   "outputs": [
    {
     "name": "stdout",
     "output_type": "stream",
     "text": [
      "Filtered dataset saved to 'dataset_threshold_5.csv'\n",
      "Number of rows in the filtered dataset: 7174\n",
      "Number of unique solvents in the filtered dataset: 102\n",
      "Number of unique solutes InChIKeys: 3351\n",
      "7303\n",
      "7303\n",
      "58\n",
      "7174\n"
     ]
    }
   ],
   "source": [
    "import pandas as pd\n",
    "\n",
    "# Load the dataset\n",
    "df = pd.read_csv('/Users/stella/Documents/tierney/project/notebooks/final_combined_data_cleaned.csv')\n",
    "\n",
    "# Group by solvent_name and count the total number of solute data points for each solvent\n",
    "solvent_solute_counts = df.groupby('solvent_name').size().reset_index(name='total_solute_data_points')\n",
    "\n",
    "# Filter solvents with 5 or more solute data points\n",
    "threshold = 5\n",
    "solvents_to_keep = solvent_solute_counts[solvent_solute_counts['total_solute_data_points'] >= threshold]['solvent_name']\n",
    "\n",
    "# Filter the original dataset to keep only rows with solvents in the \"solvents_to_keep\" list\n",
    "filtered_df = df[df['solvent_name'].isin(solvents_to_keep)]\n",
    "\n",
    "# Save the filtered dataset to a new CSV file\n",
    "filtered_df.to_csv('dataset_threshold_5.csv', index=False)\n",
    "\n",
    "print(f\"Filtered dataset saved to 'dataset_threshold_5.csv'\")\n",
    "print(f\"Number of rows in the filtered dataset: {len(filtered_df)}\")\n",
    "print(f\"Number of unique solvents in the filtered dataset: {filtered_df['solvent_name'].nunique()}\")\n",
    "print(f\"Number of unique solutes InChIKeys: {unique_solutes}\")\n",
    "\n"
   ]
  },
  {
   "cell_type": "code",
   "execution_count": 41,
   "metadata": {},
   "outputs": [
    {
     "name": "stdout",
     "output_type": "stream",
     "text": [
      "Number of possible combinations of solute and solvent:  341802\n",
      "Percentage of data coverage:  2.098875957425644 %\n"
     ]
    }
   ],
   "source": [
    "# Calculate total number of possible combinations\n",
    "combinations = 102*3351\n",
    "percentage = len(filtered_df['LogS_M'])*100/combinations\n",
    "print ('Number of possible combinations of solute and solvent: ', combinations)\n",
    "print ('Percentage of data coverage: ', percentage, '%')"
   ]
  },
  {
   "cell_type": "code",
   "execution_count": 31,
   "metadata": {},
   "outputs": [
    {
     "name": "stdout",
     "output_type": "stream",
     "text": [
      "Filtered dataset saved to 'reduced_dataset_solute_3.csv'\n",
      "Number of rows in the filtered dataset: 3985\n",
      "Number of unique solvents in the filtered dataset: 102\n",
      "Number of unique solutes in the filtered dataset: 356\n"
     ]
    }
   ],
   "source": [
    "import pandas as pd\n",
    "\n",
    "# Load the dataset\n",
    "df = pd.read_csv('/Users/stella/Documents/tierney/project/notebooks/dataset_threshold_5.csv')\n",
    "\n",
    "# Group by solute_inchikey and count the total number of data points for each solute\n",
    "solute_counts = df.groupby('solute_inchikey').size().reset_index(name='total_data_points')\n",
    "\n",
    "# Filter solutes with 3 or more data points\n",
    "threshold = 3\n",
    "solutes_to_keep = solute_counts[solute_counts['total_data_points'] >= threshold]['solute_inchikey']\n",
    "\n",
    "# Filter the original dataset to keep only rows with solutes in the \"solutes_to_keep\" list\n",
    "filtered_df = df[df['solute_inchikey'].isin(solutes_to_keep)]\n",
    "\n",
    "# Save the filtered dataset to a new CSV file\n",
    "filtered_df.to_csv('reduced_dataset_solvent_5_solute_3.csv', index=False)\n",
    "\n",
    "# Print summary statistics\n",
    "print(f\"Filtered dataset saved to 'reduced_dataset_solute_3.csv'\")\n",
    "print(f\"Number of rows in the filtered dataset: {len(filtered_df)}\")\n",
    "print(f\"Number of unique solvents in the filtered dataset: {filtered_df['solvent_name'].nunique()}\")\n",
    "print(f\"Number of unique solutes in the filtered dataset: {filtered_df['solute_inchikey'].nunique()}\")"
   ]
  },
  {
   "cell_type": "code",
   "execution_count": 46,
   "metadata": {},
   "outputs": [
    {
     "name": "stdout",
     "output_type": "stream",
     "text": [
      "Number of possible combinations of solute and solvent:  36312\n",
      "Percentage of data coverage:  10.379488874201366 %\n"
     ]
    }
   ],
   "source": [
    "# Calculate total number of possible combinations\n",
    "combinations = 102*356\n",
    "percentage = len(new_df['LogS_M'])*100/combinations\n",
    "print ('Number of possible combinations of solute and solvent: ', combinations)\n",
    "print ('Percentage of data coverage: ', percentage, '%')"
   ]
  },
  {
   "cell_type": "code",
   "execution_count": 44,
   "metadata": {},
   "outputs": [
    {
     "name": "stdout",
     "output_type": "stream",
     "text": [
      "Filtered dataset saved to 'dataset_solvent_5_solute_4.csv'\n",
      "Number of rows in the filtered dataset: 3769\n",
      "Number of unique solvents in the filtered dataset: 102\n",
      "Number of unique solutes in the filtered dataset: 284\n"
     ]
    }
   ],
   "source": [
    "import pandas as pd\n",
    "\n",
    "# Load the dataset\n",
    "df = pd.read_csv('/Users/stella/Documents/tierney/project/notebooks/dataset_threshold_5.csv')\n",
    "\n",
    "# Group by solute_inchikey and count the total number of data points for each solute\n",
    "solute_counts = df.groupby('solute_inchikey').size().reset_index(name='total_data_points')\n",
    "\n",
    "# Filter solutes with 4 or more data points\n",
    "threshold = 4\n",
    "solutes_to_keep = solute_counts[solute_counts['total_data_points'] >= threshold]['solute_inchikey']\n",
    "\n",
    "# Filter the original dataset to keep only rows with solutes in the \"solutes_to_keep\" list\n",
    "filtered_df = df[df['solute_inchikey'].isin(solutes_to_keep)]\n",
    "\n",
    "# Save the filtered dataset to a new CSV file\n",
    "filtered_df.to_csv('dataset_solvent_5_solute_4.csv', index=False)\n",
    "\n",
    "# Print summary statistics\n",
    "print(f\"Filtered dataset saved to 'dataset_solvent_5_solute_4.csv'\")\n",
    "print(f\"Number of rows in the filtered dataset: {len(filtered_df)}\")\n",
    "print(f\"Number of unique solvents in the filtered dataset: {filtered_df['solvent_name'].nunique()}\")\n",
    "print(f\"Number of unique solutes in the filtered dataset: {filtered_df['solute_inchikey'].nunique()}\")"
   ]
  },
  {
   "cell_type": "code",
   "execution_count": 45,
   "metadata": {},
   "outputs": [
    {
     "name": "stdout",
     "output_type": "stream",
     "text": [
      "Number of possible combinations of solute and solvent:  28968\n",
      "Percentage of data coverage:  13.010908588787627 %\n"
     ]
    }
   ],
   "source": [
    "import pandas as pd\n",
    "\n",
    "# Load the dataset\n",
    "new_df = pd.read_csv('/Users/stella/Documents/tierney/project/notebooks/dataset_solvent_5_solute_4.csv')\n",
    "\n",
    "# Calculate total number of possible combinations\n",
    "combinations = 102*284\n",
    "percentage = len(new_df['LogS_M'])*100/combinations\n",
    "print ('Number of possible combinations of solute and solvent: ', combinations)\n",
    "print ('Percentage of data coverage: ', percentage, '%')"
   ]
  },
  {
   "cell_type": "code",
   "execution_count": 47,
   "metadata": {},
   "outputs": [
    {
     "name": "stdout",
     "output_type": "stream",
     "text": [
      "Filtered dataset saved to 'dataset_solvent_10_solute_4.csv'\n",
      "Number of rows in the filtered dataset: 3610\n",
      "Number of unique solvents in the filtered dataset: 78\n",
      "Number of unique solutes in the filtered dataset: 284\n"
     ]
    }
   ],
   "source": [
    "import pandas as pd\n",
    "\n",
    "# Load the dataset\n",
    "df = pd.read_csv('/Users/stella/Documents/tierney/project/notebooks/reduced_dataset_threshold_10.csv')\n",
    "\n",
    "# Group by solute_inchikey and count the total number of data points for each solute\n",
    "solute_counts = df.groupby('solute_inchikey').size().reset_index(name='total_data_points')\n",
    "\n",
    "# Filter solutes with 4 or more data points\n",
    "threshold = 4\n",
    "solutes_to_keep = solute_counts[solute_counts['total_data_points'] >= threshold]['solute_inchikey']\n",
    "\n",
    "# Filter the original dataset to keep only rows with solutes in the \"solutes_to_keep\" list\n",
    "filtered_df = df[df['solute_inchikey'].isin(solutes_to_keep)]\n",
    "\n",
    "# Save the filtered dataset to a new CSV file\n",
    "filtered_df.to_csv('dataset_solvent_10_solute_4.csv', index=False)\n",
    "\n",
    "# Print summary statistics\n",
    "print(f\"Filtered dataset saved to 'dataset_solvent_10_solute_4.csv'\")\n",
    "print(f\"Number of rows in the filtered dataset: {len(filtered_df)}\")\n",
    "print(f\"Number of unique solvents in the filtered dataset: {filtered_df['solvent_name'].nunique()}\")\n",
    "print(f\"Number of unique solutes in the filtered dataset: {filtered_df['solute_inchikey'].nunique()}\")"
   ]
  },
  {
   "cell_type": "code",
   "execution_count": 49,
   "metadata": {},
   "outputs": [
    {
     "name": "stdout",
     "output_type": "stream",
     "text": [
      "Number of possible combinations of solute and solvent:  22152\n",
      "Percentage of data coverage:  16.296496930299746 %\n"
     ]
    }
   ],
   "source": [
    "import pandas as pd\n",
    "\n",
    "# Load the dataset\n",
    "a_df = pd.read_csv('/Users/stella/Documents/tierney/project/notebooks/dataset_solvent_10_solute_4.csv')\n",
    "\n",
    "# Calculate total number of possible combinations\n",
    "combinations = 78*284\n",
    "percentage = len(a_df['LogS_M'])*100/combinations\n",
    "print ('Number of possible combinations of solute and solvent: ', combinations)\n",
    "print ('Percentage of data coverage: ', percentage, '%')"
   ]
  },
  {
   "cell_type": "code",
   "execution_count": 35,
   "metadata": {},
   "outputs": [
    {
     "name": "stdout",
     "output_type": "stream",
     "text": [
      "Total rows:3985\n",
      "total:0\n"
     ]
    },
    {
     "data": {
      "text/html": [
       "<div>\n",
       "<style scoped>\n",
       "    .dataframe tbody tr th:only-of-type {\n",
       "        vertical-align: middle;\n",
       "    }\n",
       "\n",
       "    .dataframe tbody tr th {\n",
       "        vertical-align: top;\n",
       "    }\n",
       "\n",
       "    .dataframe thead th {\n",
       "        text-align: right;\n",
       "    }\n",
       "</style>\n",
       "<table border=\"1\" class=\"dataframe\">\n",
       "  <thead>\n",
       "    <tr style=\"text-align: right;\">\n",
       "      <th></th>\n",
       "      <th>LogS_M</th>\n",
       "      <th>solute_smiles</th>\n",
       "      <th>solvent_name</th>\n",
       "      <th>solvent_smiles</th>\n",
       "      <th>solute_inchikey</th>\n",
       "    </tr>\n",
       "  </thead>\n",
       "  <tbody>\n",
       "    <tr>\n",
       "      <th>0</th>\n",
       "      <td>-0.160929</td>\n",
       "      <td>Fc2c1c(F)c(F)c(F)c(F)c1c(F)c(F)c2F</td>\n",
       "      <td>1,2-dibromoethane</td>\n",
       "      <td>BrCCBr</td>\n",
       "      <td>JDCMOHAFGDQQJX-UHFFFAOYNA-N</td>\n",
       "    </tr>\n",
       "    <tr>\n",
       "      <th>1</th>\n",
       "      <td>-0.338571</td>\n",
       "      <td>Fc1c(c(F)c(F)c(F)c1F)c2c(F)c(F)c(F)c(F)c2F</td>\n",
       "      <td>1,2-dibromoethane</td>\n",
       "      <td>BrCCBr</td>\n",
       "      <td>ONUFSRWQCKNVSL-UHFFFAOYNA-N</td>\n",
       "    </tr>\n",
       "    <tr>\n",
       "      <th>2</th>\n",
       "      <td>0.490035</td>\n",
       "      <td>c1ccc2ccccc2c1</td>\n",
       "      <td>1,2-dibromoethane</td>\n",
       "      <td>BrCCBr</td>\n",
       "      <td>UFWIBTONFRDIAS-UHFFFAOYNA-N</td>\n",
       "    </tr>\n",
       "    <tr>\n",
       "      <th>3</th>\n",
       "      <td>0.220052</td>\n",
       "      <td>ClC(Cl)(Cl)C(Cl)(Cl)Cl</td>\n",
       "      <td>1,2-dibromoethane</td>\n",
       "      <td>BrCCBr</td>\n",
       "      <td>VHHHONWQHHHLTI-UHFFFAOYNA-N</td>\n",
       "    </tr>\n",
       "    <tr>\n",
       "      <th>4</th>\n",
       "      <td>0.535876</td>\n",
       "      <td>c1ccc(cc1)c2ccccc2</td>\n",
       "      <td>1,2-dibromoethane</td>\n",
       "      <td>BrCCBr</td>\n",
       "      <td>ZUOUZKKEUPVFJK-UHFFFAOYNA-N</td>\n",
       "    </tr>\n",
       "  </tbody>\n",
       "</table>\n",
       "</div>"
      ],
      "text/plain": [
       "     LogS_M                               solute_smiles       solvent_name  \\\n",
       "0 -0.160929          Fc2c1c(F)c(F)c(F)c(F)c1c(F)c(F)c2F  1,2-dibromoethane   \n",
       "1 -0.338571  Fc1c(c(F)c(F)c(F)c1F)c2c(F)c(F)c(F)c(F)c2F  1,2-dibromoethane   \n",
       "2  0.490035                              c1ccc2ccccc2c1  1,2-dibromoethane   \n",
       "3  0.220052                      ClC(Cl)(Cl)C(Cl)(Cl)Cl  1,2-dibromoethane   \n",
       "4  0.535876                          c1ccc(cc1)c2ccccc2  1,2-dibromoethane   \n",
       "\n",
       "  solvent_smiles              solute_inchikey  \n",
       "0         BrCCBr  JDCMOHAFGDQQJX-UHFFFAOYNA-N  \n",
       "1         BrCCBr  ONUFSRWQCKNVSL-UHFFFAOYNA-N  \n",
       "2         BrCCBr  UFWIBTONFRDIAS-UHFFFAOYNA-N  \n",
       "3         BrCCBr  VHHHONWQHHHLTI-UHFFFAOYNA-N  \n",
       "4         BrCCBr  ZUOUZKKEUPVFJK-UHFFFAOYNA-N  "
      ]
     },
     "execution_count": 35,
     "metadata": {},
     "output_type": "execute_result"
    }
   ],
   "source": [
    "import pandas as pd\n",
    "\n",
    "# Load the dataset\n",
    "file_path = \"/Users/stella/Documents/tierney/project/notebooks/reduced_dataset_solvent_5_solute_3.csv\"  # Replace with your file path\n",
    "df = pd.read_csv(file_path)\n",
    "print(f\"Total rows:{df.shape[0]}\")\n",
    "exact_duplicates=df[df.duplicated(keep=False)]\n",
    "print(f\"total:{exact_duplicates.shape[0]}\")\n",
    "df.head()"
   ]
  },
  {
   "cell_type": "code",
   "execution_count": 54,
   "metadata": {},
   "outputs": [
    {
     "name": "stdout",
     "output_type": "stream",
     "text": [
      "Number of unique solvents: 102\n",
      "Unique solvent names:\n",
      "1,2-dibromoethane\n",
      "1,2-dichloroethane\n",
      "1,2-propanediol\n",
      "1,4-dioxane\n",
      "1-butanol\n",
      "1-chlorobutane\n",
      "1-chlorooctane\n",
      "1-decanol\n",
      "1-heptanol\n",
      "1-hexanol\n",
      "1-octanol\n",
      "1-pentanol\n",
      "1-propanol\n",
      "1-tert-butoxy-2-propanol\n",
      "2,2,4-trimethylpentane\n",
      "2-butanol\n",
      "2-butoxyethanol\n",
      "2-ethoxyethanol\n",
      "2-ethyl-1-hexanol\n",
      "2-isopropoxyethanol\n",
      "2-methyl-1-butanol\n",
      "2-methyl-1-pentanol\n",
      "2-methyl-1-propanol\n",
      "2-methyl-2-butanol\n",
      "2-methyl-2-propanol\n",
      "2-pentanol\n",
      "2-propanol\n",
      "2-propoxyethanol\n",
      "3,7-dimethyl-1-octanol\n",
      "3-methoxy-1-butanol\n",
      "3-methyl-1-butanol\n",
      "4-methyl-2-pentanol\n",
      "DMF\n",
      "DMSO\n",
      "N-methyl-2-pyrrolidone\n",
      "N-methylformamide\n",
      "PEG400\n",
      "THF\n",
      "acetic acid\n",
      "acetone\n",
      "acetonitrile\n",
      "acetophenone\n",
      "aniline\n",
      "benzene\n",
      "benzyl alcohol\n",
      "butanone\n",
      "butyl acetate\n",
      "butyronitrile\n",
      "carbon disulfide\n",
      "carbon tetrachloride\n",
      "chlorobenzene\n",
      "chlorocyclohexane\n",
      "chloroform\n",
      "cis-1,2-dimethylcyclohexane\n",
      "cis-1,3-dimethylcyclohexane\n",
      "cis-1,4-dimethylcyclohexane\n",
      "cyclohexane\n",
      "cyclohexanone\n",
      "cyclooctane\n",
      "cyclopentanol\n",
      "decane\n",
      "dibutyl ether\n",
      "dichloroethane\n",
      "dichloromethane\n",
      "diethyl ether\n",
      "diisopropyl ether\n",
      "dimethylacetamide\n",
      "dodecane\n",
      "ethanol\n",
      "ethyl acetate\n",
      "ethylbenzene\n",
      "ethylene glycol\n",
      "fluorobenzene\n",
      "formamide\n",
      "heptane\n",
      "hexadecane\n",
      "hexane\n",
      "isopropyl myristate\n",
      "m-xylene\n",
      "methanol\n",
      "methyl acetate\n",
      "methyl butyrate\n",
      "methyl tert-butyl ether\n",
      "methylcyclohexane\n",
      "nitromethane\n",
      "nonane\n",
      "o-xylene\n",
      "octane\n",
      "p-xylene\n",
      "pentyl acetate\n",
      "propionitrile\n",
      "propyl acetate\n",
      "propylene carbonate\n",
      "propylene glycol\n",
      "sulfolane\n",
      "tert-butylcyclohexane\n",
      "toluene\n",
      "trans-1,2-dimethylcyclohexane\n",
      "trans-1,4-dimethylcyclohexane\n",
      "trifluoroethanol\n",
      "undecane\n",
      "water\n"
     ]
    }
   ],
   "source": [
    "import pandas as pd\n",
    "\n",
    "# Load the dataset\n",
    "df = pd.read_csv('/Users/stella/Documents/tierney/project/notebooks/dataset_solvent_5_solute_4.csv')\n",
    "# Get the unique solvent names\n",
    "unique_solvents = df['solvent_name'].unique()\n",
    "\n",
    "# Print the number of unique solvents and their names\n",
    "print(f\"Number of unique solvents: {len(unique_solvents)}\")\n",
    "print(\"Unique solvent names:\")\n",
    "for solvent in unique_solvents:\n",
    "    print(solvent)"
   ]
  },
  {
   "cell_type": "code",
   "execution_count": null,
   "metadata": {},
   "outputs": [],
   "source": [
    "import os\n",
    "\n",
    "# Define the source and destination paths\n",
    "source_path = '/Users/stella/Documents/tierney/project/dataset_solvent_5_solute_4.csv'\n",
    "destination_path = '/Users/stella/Documents/tierney/project/final_reduced_dataset.csv'\n",
    "\n",
    "# Rename the file\n",
    "os.rename(source_path, destination_path)\n"
   ]
  }
 ],
 "metadata": {
  "kernelspec": {
   "display_name": "base",
   "language": "python",
   "name": "python3"
  },
  "language_info": {
   "codemirror_mode": {
    "name": "ipython",
    "version": 3
   },
   "file_extension": ".py",
   "mimetype": "text/x-python",
   "name": "python",
   "nbconvert_exporter": "python",
   "pygments_lexer": "ipython3",
   "version": "3.12.7"
  }
 },
 "nbformat": 4,
 "nbformat_minor": 2
}
