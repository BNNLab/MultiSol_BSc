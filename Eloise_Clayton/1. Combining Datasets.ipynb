{
 "cells": [
  {
   "cell_type": "code",
   "execution_count": 7,
   "id": "df117f23-d9c0-4858-a019-f411c4c9df8b",
   "metadata": {},
   "outputs": [],
   "source": [
    "import pandas as pd"
   ]
  },
  {
   "cell_type": "code",
   "execution_count": 8,
   "id": "4dd4fadb-9e04-438e-858b-b6c40d2c5d76",
   "metadata": {},
   "outputs": [],
   "source": [
    "df1 = pd.read_csv('cross_solvent_solubility_dataset_BSc_2024.csv')\n",
    "df2 = pd.read_csv('basf_inchi_logS.csv')"
   ]
  },
  {
   "cell_type": "code",
   "execution_count": 9,
   "id": "adbda336-1b87-444c-b58c-12414daea72e",
   "metadata": {},
   "outputs": [],
   "source": [
    "df2['solute_inchikey'] = df2['solute_inchikey'].str.replace('InChIKey=', '', regex=False)"
   ]
  },
  {
   "cell_type": "code",
   "execution_count": 10,
   "id": "6089cd33-9cf4-4320-98be-5858a413aedf",
   "metadata": {},
   "outputs": [],
   "source": [
    "df2.rename(columns={'logS_M':'LogS'},inplace=True)"
   ]
  },
  {
   "cell_type": "code",
   "execution_count": 11,
   "id": "8fa09a54-69bd-49f9-aad5-772f1a061d75",
   "metadata": {},
   "outputs": [],
   "source": [
    "combined_df = pd.concat([df1, df2]).drop_duplicates()"
   ]
  },
  {
   "cell_type": "code",
   "execution_count": 12,
   "id": "0aaf907b-a273-434b-93e5-16936e9c5ceb",
   "metadata": {},
   "outputs": [],
   "source": [
    "combined_df.to_csv('combined_data.csv', index=False)"
   ]
  }
 ],
 "metadata": {
  "kernelspec": {
   "display_name": "anaconda-ai-2024.04-py310",
   "language": "python",
   "name": "conda-env-anaconda-ai-2024.04-py310-py"
  },
  "language_info": {
   "codemirror_mode": {
    "name": "ipython",
    "version": 3
   },
   "file_extension": ".py",
   "mimetype": "text/x-python",
   "name": "python",
   "nbconvert_exporter": "python",
   "pygments_lexer": "ipython3",
   "version": "3.10.13"
  }
 },
 "nbformat": 4,
 "nbformat_minor": 5
}
