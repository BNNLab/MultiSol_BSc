{
 "cells": [
  {
   "cell_type": "code",
   "execution_count": 8,
   "id": "f558bcfd-6606-4ab0-930d-00470d711ad8",
   "metadata": {},
   "outputs": [],
   "source": [
    "import pandas as pd"
   ]
  },
  {
   "cell_type": "code",
   "execution_count": 9,
   "id": "b89aaec3-5680-48ce-a139-8efed83e2c92",
   "metadata": {},
   "outputs": [],
   "source": [
    "df = pd.read_csv('combined_data.csv')\n",
    "df = df.drop(columns=['solute_smiles', 'S_M', 'ID', \"MP_C\",'MW'])"
   ]
  },
  {
   "cell_type": "code",
   "execution_count": 10,
   "id": "ea32e6db-a1b1-4843-b581-26af9da6f1f0",
   "metadata": {},
   "outputs": [],
   "source": [
    "#indentify duplicate rows for \"logS\"\n",
    "columns_to_check = [col for col in df.columns if col not in ['LogS']]\n",
    "duplicates = df[df.duplicated(subset=columns_to_check, keep=False)]"
   ]
  },
  {
   "cell_type": "code",
   "execution_count": 11,
   "id": "c399c28d-1681-449b-bb1d-4c1bd81469a1",
   "metadata": {},
   "outputs": [],
   "source": [
    "duplicates.to_csv('duplicates.csv', index=False)"
   ]
  },
  {
   "cell_type": "code",
   "execution_count": 12,
   "id": "8a2f2a7f-3df0-49cc-b137-6eaf07136fd2",
   "metadata": {},
   "outputs": [],
   "source": [
    "df_no_duplicates = df.drop(duplicates.index)\n",
    "df_no_duplicates.to_csv('cd_no_duplicates.csv', index=False)"
   ]
  },
  {
   "cell_type": "code",
   "execution_count": 13,
   "id": "dc3674ed-cd31-4ce7-8a16-531f73f59e65",
   "metadata": {},
   "outputs": [],
   "source": [
    "# Ensure 'LogS' is numeric before averaging\n",
    "duplicates = duplicates.copy()\n",
    "duplicates['LogS'] = pd.to_numeric(duplicates['LogS'], errors='coerce')\n",
    "\n",
    "# Compute the average 'LogS' for duplicate groups\n",
    "averaged_duplicates = duplicates.groupby(columns_to_check, as_index=False)['LogS'].mean()\n",
    "averaged_duplicates.to_csv(\"average_duplicates.csv\",index=False)\n",
    "\n",
    "# Append the averaged rows\n",
    "df_no_duplicates = pd.concat([df_no_duplicates, averaged_duplicates], ignore_index=True)\n",
    "\n",
    "df_no_duplicates.to_csv('combined_data_no_duplicates_and_ave_duplicates.csv', index=False)"
   ]
  }
 ],
 "metadata": {
  "kernelspec": {
   "display_name": "anaconda-ai-2024.04-py310",
   "language": "python",
   "name": "conda-env-anaconda-ai-2024.04-py310-py"
  },
  "language_info": {
   "codemirror_mode": {
    "name": "ipython",
    "version": 3
   },
   "file_extension": ".py",
   "mimetype": "text/x-python",
   "name": "python",
   "nbconvert_exporter": "python",
   "pygments_lexer": "ipython3",
   "version": "3.10.13"
  }
 },
 "nbformat": 4,
 "nbformat_minor": 5
}
