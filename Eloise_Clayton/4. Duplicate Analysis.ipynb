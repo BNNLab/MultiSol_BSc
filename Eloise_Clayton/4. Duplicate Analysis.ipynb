{
 "cells": [
  {
   "cell_type": "code",
   "execution_count": 4,
   "id": "4fd73594-10d4-404c-b895-99c666ff0254",
   "metadata": {},
   "outputs": [],
   "source": [
    "import pandas as pd\n",
    "\n",
    "df = pd.read_csv(\"combined_data_no_duplicates_and_ave_duplicates.csv\")\n",
    "\n",
    "# Consider only 'solute_name' and 'solvent_name' columns for duplication check\n",
    "df_subset = df[['solute_name', 'solvent_name']]\n",
    "\n",
    "# Count occurrences of each unique combination of solute_name and solvent_name\n",
    "duplicate_counts = df_subset.value_counts().reset_index()\n",
    "\n",
    "# Rename the count column\n",
    "duplicate_counts.columns = ['solute_name', 'solvent_name', 'count']\n",
    "\n",
    "# Filter and display only rows with counts greater than 1\n",
    "duplicates_filtered = duplicate_counts[duplicate_counts['count'] > 1]\n",
    "\n",
    "duplicates_filtered.to_csv(\"duplicates_filtered.csv\", index=False)"
   ]
  },
  {
   "cell_type": "code",
   "execution_count": 2,
   "id": "c80911d9-9749-43c6-8bab-de7bba37ef24",
   "metadata": {},
   "outputs": [],
   "source": [
    "import pandas as pd\n",
    "\n",
    "df = pd.read_csv(\"combined_data_no_duplicates_and_ave_duplicates.csv\")\n",
    "\n",
    "# Consider only 'solute_name' and 'solvent_name' columns for duplication check\n",
    "df_subset = df[['solute_inchikey', 'solvent_smiles']]\n",
    "\n",
    "# Count occurrences of each unique combination of solute_name and solvent_name\n",
    "duplicate_counts = df_subset.value_counts().reset_index()\n",
    "\n",
    "# Rename the count column\n",
    "duplicate_counts.columns = ['solute_inchikey', 'solvent_smiles', 'count']\n",
    "\n",
    "# Filter and display only rows with counts greater than 1\n",
    "duplicates_filtered = duplicate_counts[duplicate_counts['count'] > 1]\n",
    "\n",
    "duplicates_filtered.to_csv(\"duplicates_2.csv\", index=False)"
   ]
  },
  {
   "cell_type": "code",
   "execution_count": 11,
   "id": "193f962b-d4fb-4a87-9b14-ea0cd0e27474",
   "metadata": {},
   "outputs": [],
   "source": [
    "import pandas as pd\n",
    "\n",
    "def find_duplicates(df):\n",
    "    duplicate_columns = [\"solute_name\", \"solvent_name\", \"solvent_smiles\"]\n",
    "    duplicate_counts = df.groupby(duplicate_columns).size().reset_index(name='count')\n",
    "    duplicate_counts = duplicate_counts[duplicate_counts['count'] > 1]\n",
    "    return duplicate_counts  \n",
    "\n",
    "\n",
    "df = pd.read_csv(\"combined_data_no_duplicates_and_ave_duplicates.csv\")\n",
    "duplicate_results = find_duplicates(df)\n",
    "duplicate_results.to_csv(\"duplicates_3.csv\", index=False)"
   ]
  },
  {
   "cell_type": "code",
   "execution_count": 12,
   "id": "a73b0a0f-df0f-490b-bb77-42481ee6e495",
   "metadata": {},
   "outputs": [],
   "source": [
    "import pandas as pd\n",
    "\n",
    "def find_duplicates(df):\n",
    "    duplicate_columns = [\"solute_name\", \"solvent_name\", \"solute_inchikey\"]\n",
    "    duplicate_counts = df.groupby(duplicate_columns).size().reset_index(name='count')\n",
    "    duplicate_counts = duplicate_counts[duplicate_counts['count'] > 1]\n",
    "    return duplicate_counts \n",
    "\n",
    "df = pd.read_csv(\"combined_data_no_duplicates_and_ave_duplicates.csv\")\n",
    "duplicate_results = find_duplicates(df)\n",
    "duplicate_results.to_csv(\"duplicates_4.csv\", index=False)"
   ]
  },
  {
   "cell_type": "code",
   "execution_count": null,
   "id": "81203f5e-ff46-416e-9c9a-50fcbd09f29f",
   "metadata": {},
   "outputs": [],
   "source": []
  }
 ],
 "metadata": {
  "kernelspec": {
   "display_name": "anaconda-ai-2024.04-py310",
   "language": "python",
   "name": "conda-env-anaconda-ai-2024.04-py310-py"
  },
  "language_info": {
   "codemirror_mode": {
    "name": "ipython",
    "version": 3
   },
   "file_extension": ".py",
   "mimetype": "text/x-python",
   "name": "python",
   "nbconvert_exporter": "python",
   "pygments_lexer": "ipython3",
   "version": "3.10.13"
  }
 },
 "nbformat": 4,
 "nbformat_minor": 5
}
