{
 "cells": [
  {
   "cell_type": "code",
   "execution_count": 1,
   "id": "304b9911-9ea3-49c5-a773-bf9357b90bfb",
   "metadata": {},
   "outputs": [],
   "source": [
    "import pandas as pd\n",
    "\n",
    "filtered_df = pd.read_csv(\"filtered_solvent_data.csv\")\n",
    "combined_df = pd.read_csv(\"combined_data.csv\")\n",
    "\n",
    "# Remove duplicates in combined_df based on 'solute_inchikey'\n",
    "combined_df = combined_df.drop_duplicates(subset=['solute_inchikey'])\n",
    "\n",
    "# Merge filtered_df and combined_df based on 'solute_inchikey'\n",
    "merged_df = filtered_df.merge(combined_df[['solute_inchikey', 'solute_smiles']], \n",
    "                               on='solute_inchikey', \n",
    "                               how='left')\n",
    "\n",
    "merged_df.to_csv(\"filtered_data_with_smiles.csv\", index=False)"
   ]
  },
  {
   "cell_type": "code",
   "execution_count": null,
   "id": "26d86be7-a227-430e-b60b-2e2b80ce2a18",
   "metadata": {},
   "outputs": [],
   "source": []
  }
 ],
 "metadata": {
  "kernelspec": {
   "display_name": "anaconda-ai-2024.04-py310",
   "language": "python",
   "name": "conda-env-anaconda-ai-2024.04-py310-py"
  },
  "language_info": {
   "codemirror_mode": {
    "name": "ipython",
    "version": 3
   },
   "file_extension": ".py",
   "mimetype": "text/x-python",
   "name": "python",
   "nbconvert_exporter": "python",
   "pygments_lexer": "ipython3",
   "version": "3.10.13"
  }
 },
 "nbformat": 4,
 "nbformat_minor": 5
}
