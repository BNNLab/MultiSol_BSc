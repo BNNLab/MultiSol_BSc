{
 "cells": [
  {
   "cell_type": "code",
   "execution_count": 1,
   "id": "5643ba2e-02f5-4e60-bd43-98847cfa56ef",
   "metadata": {},
   "outputs": [],
   "source": [
    "import pandas as pd\n",
    "\n",
    "file_path = \"filtered_solvent_data.csv\"\n",
    "df = pd.read_csv(file_path)\n",
    "\n",
    "# Extract unique solvents\n",
    "unique_solvents = df[\"solvent_name\"].unique()\n",
    "\n",
    "# Save the unique solvents as a new CSV file\n",
    "output_file = \"unique_solvents.csv\"\n",
    "pd.DataFrame(unique_solvents, columns=[\"solvent_name\"]).to_csv(output_file, index=False)"
   ]
  },
  {
   "cell_type": "code",
   "execution_count": null,
   "id": "5668cfdd-aabd-4475-b5b8-1234c2f0dc68",
   "metadata": {},
   "outputs": [],
   "source": []
  },
  {
   "cell_type": "code",
   "execution_count": null,
   "id": "a8987d53-7d68-4f68-bfdf-caa109d9d387",
   "metadata": {},
   "outputs": [],
   "source": []
  }
 ],
 "metadata": {
  "kernelspec": {
   "display_name": "anaconda-ai-2024.04-py310",
   "language": "python",
   "name": "conda-env-anaconda-ai-2024.04-py310-py"
  },
  "language_info": {
   "codemirror_mode": {
    "name": "ipython",
    "version": 3
   },
   "file_extension": ".py",
   "mimetype": "text/x-python",
   "name": "python",
   "nbconvert_exporter": "python",
   "pygments_lexer": "ipython3",
   "version": "3.10.13"
  }
 },
 "nbformat": 4,
 "nbformat_minor": 5
}
