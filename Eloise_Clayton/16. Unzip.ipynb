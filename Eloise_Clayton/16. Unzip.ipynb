{
 "cells": [
  {
   "cell_type": "code",
   "execution_count": 2,
   "id": "9c5af89e-37d7-49f9-8fa6-c1502a7fa25e",
   "metadata": {},
   "outputs": [
    {
     "name": "stdout",
     "output_type": "stream",
     "text": [
      "Extraction successful!\n"
     ]
    }
   ],
   "source": [
    "import zipfile\n",
    "\n",
    "zip_path = \"/home/1a310427-f101-441a-87b0-b753ef497740/output 2/eloise_clayton_gas_output.zip\"\n",
    "extract_to = \"/home/1a310427-f101-441a-87b0-b753ef497740/output 2/output_gas\"\n",
    "\n",
    "try:\n",
    "    with zipfile.ZipFile(zip_path, 'r') as zip_ref:\n",
    "        zip_ref.extractall(extract_to)\n",
    "    print(\"Extraction successful!\")\n",
    "except zipfile.BadZipFile:\n",
    "    print(\"Error: The file is not a valid ZIP archive or is corrupted.\")\n",
    "except Exception as e:\n",
    "    print(f\"Unexpected error: {e}\")"
   ]
  },
  {
   "cell_type": "code",
   "execution_count": 10,
   "id": "a366178b-14ed-4fdd-a33f-c9981ab32e53",
   "metadata": {},
   "outputs": [
    {
     "name": "stdout",
     "output_type": "stream",
     "text": [
      "Extraction successful!\n"
     ]
    }
   ],
   "source": [
    "import zipfile\n",
    "\n",
    "zip_path = \"/home/1a310427-f101-441a-87b0-b753ef497740/output 2/eloise_clayton_output_4 1.zip\"\n",
    "extract_to = \"/home/1a310427-f101-441a-87b0-b753ef497740/output 2/output_sol\"\n",
    "\n",
    "try:\n",
    "    with zipfile.ZipFile(zip_path, 'r') as zip_ref:\n",
    "        zip_ref.extractall(extract_to)\n",
    "    print(\"Extraction successful!\")\n",
    "except zipfile.BadZipFile:\n",
    "    print(\"Error: The file is not a valid ZIP archive or is corrupted.\")\n",
    "except Exception as e:\n",
    "    print(f\"Unexpected error: {e}\")"
   ]
  },
  {
   "cell_type": "code",
   "execution_count": 1,
   "id": "31bab914-9aeb-415d-af3a-389d4d6d15f5",
   "metadata": {},
   "outputs": [
    {
     "name": "stdout",
     "output_type": "stream",
     "text": [
      "Extraction successful!\n"
     ]
    }
   ],
   "source": [
    "import zipfile\n",
    "\n",
    "zip_path = \"/home/1a310427-f101-441a-87b0-b753ef497740/output 2/eloise_clayton_solvents_out.zip\"\n",
    "extract_to = \"/home/1a310427-f101-441a-87b0-b753ef497740/output 2/output_solvents\"\n",
    "\n",
    "try:\n",
    "    with zipfile.ZipFile(zip_path, 'r') as zip_ref:\n",
    "        zip_ref.extractall(extract_to)\n",
    "    print(\"Extraction successful!\")\n",
    "except zipfile.BadZipFile:\n",
    "    print(\"Error: The file is not a valid ZIP archive or is corrupted.\")\n",
    "except Exception as e:\n",
    "    print(f\"Unexpected error: {e}\")\n"
   ]
  },
  {
   "cell_type": "code",
   "execution_count": null,
   "id": "7939edb3-34a5-4293-999d-10cbc9a99a58",
   "metadata": {},
   "outputs": [],
   "source": []
  }
 ],
 "metadata": {
  "kernelspec": {
   "display_name": "anaconda-ai-2024.04-py310",
   "language": "python",
   "name": "conda-env-anaconda-ai-2024.04-py310-py"
  },
  "language_info": {
   "codemirror_mode": {
    "name": "ipython",
    "version": 3
   },
   "file_extension": ".py",
   "mimetype": "text/x-python",
   "name": "python",
   "nbconvert_exporter": "python",
   "pygments_lexer": "ipython3",
   "version": "3.10.13"
  }
 },
 "nbformat": 4,
 "nbformat_minor": 5
}
