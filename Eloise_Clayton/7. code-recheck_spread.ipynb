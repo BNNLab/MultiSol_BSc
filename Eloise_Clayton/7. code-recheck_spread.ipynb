{
 "cells": [
  {
   "cell_type": "code",
   "execution_count": 1,
   "id": "fc3370f7-40d8-41ea-93ed-997a2876ec1c",
   "metadata": {},
   "outputs": [],
   "source": [
    "import pandas as pd"
   ]
  },
  {
   "cell_type": "code",
   "execution_count": 2,
   "id": "5461d66a-156c-49f7-a472-029d6fd751fa",
   "metadata": {},
   "outputs": [],
   "source": [
    "df = pd.read_csv(\"cleaned_data_3.csv\")"
   ]
  },
  {
   "cell_type": "code",
   "execution_count": 3,
   "id": "e4b0349f-a1fa-4e00-9f11-2d5560e88b1e",
   "metadata": {},
   "outputs": [
    {
     "name": "stdout",
     "output_type": "stream",
     "text": [
      "Number of unique solutes InChIKeys: 3314\n",
      "Number of unique solvents names: 175\n"
     ]
    }
   ],
   "source": [
    "# Count unique entries\n",
    "unique_solutes = df['solute_inchikey'].nunique()\n",
    "unique_solvents = df['solvent_name'].nunique()\n",
    "\n",
    "print(f\"Number of unique solutes InChIKeys: {unique_solutes}\")\n",
    "print(f\"Number of unique solvents names: {unique_solvents}\")"
   ]
  },
  {
   "cell_type": "code",
   "execution_count": 4,
   "id": "85d4c462-fecd-4c1c-8a3b-b36c070ff7bd",
   "metadata": {},
   "outputs": [
    {
     "name": "stdout",
     "output_type": "stream",
     "text": [
      "Number of possible combinations of solute and solvent:  579950\n",
      "Percentage of data coverage:  1.2418311923441676 %\n"
     ]
    }
   ],
   "source": [
    "# Calculate total number of possible combinations\n",
    "combinations = 175*3314\n",
    "percentage = len(df['LogS'])*100/combinations\n",
    "print ('Number of possible combinations of solute and solvent: ', combinations)\n",
    "print ('Percentage of data coverage: ', percentage, '%')"
   ]
  },
  {
   "cell_type": "code",
   "execution_count": null,
   "id": "b05d5eab-2ec8-40b3-945e-edded381a3a4",
   "metadata": {},
   "outputs": [],
   "source": [
    "import pandas as pd\n",
    "import matplotlib.pyplot as plt\n",
    "from matplotlib.ticker import FixedLocator, FixedFormatter\n",
    "\n",
    "df = pd.read_csv(\"cleaned_data_3.csv\")\n",
    "\n",
    "# Count occurrences of each solvent\n",
    "solvent_counts = df[\"solvent_name\"].value_counts()\n",
    "\n",
    "# Create numeric x positions\n",
    "x_positions = list(range(len(solvent_counts)))\n",
    "\n",
    "# Set up figure and axis with a larger width\n",
    "fig, ax = plt.subplots(figsize=(40, 15)) \n",
    "\n",
    "ax.bar(x_positions, solvent_counts.values, color=\"#1f77b4\", width=0.8)\n",
    "\n",
    "# Force even spacing using FixedLocator and FixedFormatter\n",
    "ax.xaxis.set_major_locator(FixedLocator(x_positions))\n",
    "ax.xaxis.set_major_formatter(FixedFormatter(solvent_counts.index))\n",
    "\n",
    "plt.xticks(rotation=90, fontsize=19)  \n",
    "ax.tick_params(axis='y', labelsize=19)\n",
    "\n",
    "ax.set_title(\"Number of Data Points per Solvent Before Spread Adjustment\", fontsize=36, pad=30)\n",
    "ax.set_xlabel(\"Solvent\", fontsize=30)\n",
    "ax.set_ylabel(\"Number of Data Points\", fontsize=30)\n",
    "\n",
    "ax.set_xlim(-2, len(solvent_counts) + 1)\n",
    "\n",
    "# Add outer border (spines)\n",
    "for spine in ax.spines.values():\n",
    "    spine.set_visible(True)\n",
    "    spine.set_linewidth(1)\n",
    "    spine.set_color(\"black\")\n",
    "\n",
    "# Use tight_layout to automatically adjust spacing\n",
    "plt.tight_layout()\n",
    "\n",
    "plt.show()"
   ]
  }
 ],
 "metadata": {
  "kernelspec": {
   "display_name": "anaconda-ai-2024.04-py310",
   "language": "python",
   "name": "conda-env-anaconda-ai-2024.04-py310-py"
  },
  "language_info": {
   "codemirror_mode": {
    "name": "ipython",
    "version": 3
   },
   "file_extension": ".py",
   "mimetype": "text/x-python",
   "name": "python",
   "nbconvert_exporter": "python",
   "pygments_lexer": "ipython3",
   "version": "3.10.13"
  }
 },
 "nbformat": 4,
 "nbformat_minor": 5
}
