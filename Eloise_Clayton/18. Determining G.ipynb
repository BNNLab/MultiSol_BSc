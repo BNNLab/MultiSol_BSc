{
 "cells": [
  {
   "cell_type": "code",
   "execution_count": 2,
   "id": "365511d3-1c68-4ee2-9997-74ce4ccb4060",
   "metadata": {},
   "outputs": [],
   "source": [
    "import pandas as pd\n",
    "\n",
    "gas_df = pd.read_csv('gas_phase_data.csv')\n",
    "solution_df = pd.read_csv('solution_phase_data.csv')\n",
    "\n",
    "# Merge the two DataFrames based on 'InChiKey'\n",
    "merged_df = pd.merge(gas_df, solution_df, on=['solute_inchikey', 'solvent_name'], suffixes=('_gas', '_sol'))\n",
    "\n",
    "# Calculate G(gas) and G(sol)\n",
    "merged_df['G_gas'] = merged_df['H_gas'] - 298 * merged_df['S_gas']\n",
    "merged_df['G_sol'] = merged_df['H_sol'] - 298 * merged_df['S_sol']\n",
    "\n",
    "# Calculate G(solvation)\n",
    "merged_df['DeltaG_sol'] = merged_df['G_sol'] - merged_df['G_gas']\n",
    "\n",
    "# Create the new DataFrame with the required columns\n",
    "final_df = merged_df[['solute_inchikey', 'solvent_name', 'G_gas', 'G_sol', 'DeltaG_sol']]\n",
    "\n",
    "final_df.to_csv('free_energy_data.csv', index=False)"
   ]
  },
  {
   "cell_type": "code",
   "execution_count": null,
   "id": "cf5fe7b0-57dd-47a1-9172-8415d6fd0a37",
   "metadata": {},
   "outputs": [],
   "source": []
  }
 ],
 "metadata": {
  "kernelspec": {
   "display_name": "anaconda-ai-2024.04-py310",
   "language": "python",
   "name": "conda-env-anaconda-ai-2024.04-py310-py"
  },
  "language_info": {
   "codemirror_mode": {
    "name": "ipython",
    "version": 3
   },
   "file_extension": ".py",
   "mimetype": "text/x-python",
   "name": "python",
   "nbconvert_exporter": "python",
   "pygments_lexer": "ipython3",
   "version": "3.10.13"
  }
 },
 "nbformat": 4,
 "nbformat_minor": 5
}
