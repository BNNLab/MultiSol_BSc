{
 "cells": [
  {
   "cell_type": "code",
   "execution_count": null,
   "id": "70a74524-fb43-4fb8-8802-7f9deca41f7c",
   "metadata": {},
   "outputs": [],
   "source": [
    "import zipfile\n",
    "import os"
   ]
  },
  {
   "cell_type": "code",
   "execution_count": 1,
   "id": "c9ec8769-67b5-47fc-92e9-dfa5610d1010",
   "metadata": {},
   "outputs": [],
   "source": [
    "folder_path = 'xyz_to_mop'  \n",
    "zip_file_name = 'xyz_to_mop.zip' \n",
    "\n",
    "# Create a zip file\n",
    "with zipfile.ZipFile(zip_file_name, 'w', zipfile.ZIP_DEFLATED) as zipf:\n",
    "    for root, dirs, files in os.walk(folder_path):\n",
    "        for file in files:\n",
    "            zipf.write(os.path.join(root, file), \n",
    "                       os.path.relpath(os.path.join(root, file), \n",
    "                                      os.path.join(folder_path, '..')))\n"
   ]
  },
  {
   "cell_type": "code",
   "execution_count": 1,
   "id": "08aae62b-466f-44c1-873e-da7e7bb951b4",
   "metadata": {},
   "outputs": [],
   "source": [
    "folder_path = 'xyz_to_mop_gas_actual' \n",
    "zip_file_name = 'xyz_to_mop_gas.zip'  \n",
    "\n",
    "# Create a zip file\n",
    "with zipfile.ZipFile(zip_file_name, 'w', zipfile.ZIP_DEFLATED) as zipf:\n",
    "    for root, dirs, files in os.walk(folder_path):\n",
    "        for file in files:\n",
    "            zipf.write(os.path.join(root, file), \n",
    "                       os.path.relpath(os.path.join(root, file), \n",
    "                                      os.path.join(folder_path, '..')))\n"
   ]
  },
  {
   "cell_type": "code",
   "execution_count": null,
   "id": "0a868d23-87bb-42f2-b7e3-1f0a0c257fde",
   "metadata": {},
   "outputs": [],
   "source": []
  }
 ],
 "metadata": {
  "kernelspec": {
   "display_name": "anaconda-ai-2024.04-py310",
   "language": "python",
   "name": "conda-env-anaconda-ai-2024.04-py310-py"
  },
  "language_info": {
   "codemirror_mode": {
    "name": "ipython",
    "version": 3
   },
   "file_extension": ".py",
   "mimetype": "text/x-python",
   "name": "python",
   "nbconvert_exporter": "python",
   "pygments_lexer": "ipython3",
   "version": "3.10.13"
  }
 },
 "nbformat": 4,
 "nbformat_minor": 5
}
