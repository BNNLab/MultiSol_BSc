{
 "cells": [
  {
   "cell_type": "code",
   "execution_count": 1,
   "id": "a3a9e6f0-9d38-4b8e-90bc-b12a5251875a",
   "metadata": {},
   "outputs": [],
   "source": [
    "import pandas as pd"
   ]
  },
  {
   "cell_type": "code",
   "execution_count": 2,
   "id": "28ac908e-67de-4493-b4ff-bc9ae708bb35",
   "metadata": {},
   "outputs": [],
   "source": [
    "df = pd.read_csv(\"combined_data_no_duplicates_and_ave_duplicates.csv\")"
   ]
  },
  {
   "cell_type": "code",
   "execution_count": 3,
   "id": "ac7ff1a8-f8ee-480a-aba1-ce960f65a401",
   "metadata": {},
   "outputs": [
    {
     "name": "stdout",
     "output_type": "stream",
     "text": [
      "Number of unique solutes InChIKeys: 3352\n",
      "Number of unique solvents names: 189\n"
     ]
    }
   ],
   "source": [
    "# Count unique entries\n",
    "unique_solutes = df['solute_inchikey'].nunique()\n",
    "unique_solvents = df['solvent_name'].nunique()\n",
    "\n",
    "print(f\"Number of unique solutes InChIKeys: {unique_solutes}\")\n",
    "print(f\"Number of unique solvents names: {unique_solvents}\")"
   ]
  },
  {
   "cell_type": "code",
   "execution_count": 4,
   "id": "2da941c3-b3f3-4609-87d4-69a346ffc08b",
   "metadata": {},
   "outputs": [
    {
     "name": "stdout",
     "output_type": "stream",
     "text": [
      "Number of possible combinations of solute and solvent:  629612\n",
      "Percentage of data coverage:  1.3079483872607256 %\n"
     ]
    }
   ],
   "source": [
    "# Calculate total number of possible combinations\n",
    "combinations = 188*3349\n",
    "percentage = len(df['LogS'])*100/combinations\n",
    "print ('Number of possible combinations of solute and solvent: ', combinations)\n",
    "print ('Percentage of data coverage: ', percentage, '%')"
   ]
  },
  {
   "cell_type": "code",
   "execution_count": null,
   "id": "68156fa1-c717-4f90-853c-30321767e9d3",
   "metadata": {},
   "outputs": [],
   "source": []
  }
 ],
 "metadata": {
  "kernelspec": {
   "display_name": "anaconda-ai-2024.04-py310",
   "language": "python",
   "name": "conda-env-anaconda-ai-2024.04-py310-py"
  },
  "language_info": {
   "codemirror_mode": {
    "name": "ipython",
    "version": 3
   },
   "file_extension": ".py",
   "mimetype": "text/x-python",
   "name": "python",
   "nbconvert_exporter": "python",
   "pygments_lexer": "ipython3",
   "version": "3.10.13"
  }
 },
 "nbformat": 4,
 "nbformat_minor": 5
}
