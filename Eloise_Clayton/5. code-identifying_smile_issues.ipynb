{
 "cells": [
  {
   "cell_type": "code",
   "execution_count": 1,
   "id": "086faedc-753c-4ff2-b332-1ce4ad38d0a7",
   "metadata": {},
   "outputs": [],
   "source": [
    "import pandas as pd\n",
    "\n",
    "df = pd.read_csv(\"combined_data_no_duplicates_and_ave_duplicates.csv\")\n",
    "duplicates = pd.read_csv(\"duplicates_4.csv\")\n",
    "\n",
    "# Merge to get solvent_name and solute_smiles for the identified duplicates\n",
    "duplicate_smiles = df.merge(duplicates, on=[\"solute_name\", \"solvent_name\", \"solute_inchikey\"], how=\"inner\")\n",
    "\n",
    "# Select only solvent_name and solute_smiles columns\n",
    "duplicate_smiles = duplicate_smiles[[\"solvent_name\", \"solvent_smiles\"]].drop_duplicates()\n",
    "\n",
    "duplicate_smiles.to_csv(\"unique_duplicate_smiles.csv\", index=False)"
   ]
  },
  {
   "cell_type": "code",
   "execution_count": null,
   "id": "e11cff33-be27-4eca-9b43-65f7de7bc7e3",
   "metadata": {},
   "outputs": [],
   "source": []
  }
 ],
 "metadata": {
  "kernelspec": {
   "display_name": "anaconda-ai-2024.04-py310",
   "language": "python",
   "name": "conda-env-anaconda-ai-2024.04-py310-py"
  },
  "language_info": {
   "codemirror_mode": {
    "name": "ipython",
    "version": 3
   },
   "file_extension": ".py",
   "mimetype": "text/x-python",
   "name": "python",
   "nbconvert_exporter": "python",
   "pygments_lexer": "ipython3",
   "version": "3.10.13"
  }
 },
 "nbformat": 4,
 "nbformat_minor": 5
}
