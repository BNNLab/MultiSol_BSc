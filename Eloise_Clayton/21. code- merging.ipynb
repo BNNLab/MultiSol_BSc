{
 "cells": [
  {
   "cell_type": "code",
   "execution_count": 45,
   "id": "a68f5009-91fc-4fc5-a2a3-ddd17ef652ce",
   "metadata": {},
   "outputs": [
    {
     "name": "stdout",
     "output_type": "stream",
     "text": [
      "Merged data with all rows kept saved as 'merged2_updated_no_extra_rows.csv'\n"
     ]
    }
   ],
   "source": [
    "import pandas as pd\n",
    "\n",
    "def merge_and_keep_rows():\n",
    "    # Load the merging2.csv file- list of solvent_name and solute_inchikey which was externally created \n",
    "    merging2_df = pd.read_csv('merging2.csv')\n",
    "    # Load the \n",
    "    combined_data_df = pd.read_csv('filtered_data_with_smiles.csv')\n",
    "    \n",
    "    # Standardize the solvent names: replace underscores with spaces in merging2_df\n",
    "    merging2_df['solvent_name'] = merging2_df['solvent_name'].str.replace('_', ' ')\n",
    "       \n",
    "    # Extract the relevant columns for solute and solvent, and include LogS\n",
    "    solute_info = combined_data_df[['solute_inchikey', 'solute_name', 'solute_smiles', 'LogS']].drop_duplicates(subset='solute_inchikey', keep='first')\n",
    "    solvent_info = combined_data_df[['solvent_name', 'solvent_smiles']].drop_duplicates(subset='solvent_name', keep='first')\n",
    "    \n",
    "    # Merge merging2.csv with the extracted solute_info and solvent_info based on matching columns\n",
    "    # Merge for solute information using solute_inchikey\n",
    "    merged_solute_df = merging2_df.merge(solute_info, on='solute_inchikey', how='left')\n",
    "    \n",
    "    # Merge for solvent information using solvent_inchikey\n",
    "    merged_df = merged_solute_df.merge(solvent_info, on='solvent_name', how='left')\n",
    "    \n",
    "    # Save the merged data to a new CSV\n",
    "    merged_df.to_csv('merged2_updated_no_extra_rows.csv', index=False)\n",
    "    \n",
    "# Run the function\n",
    "merge_and_keep_rows()"
   ]
  },
  {
   "cell_type": "code",
   "execution_count": 47,
   "id": "779fb555-8aa4-4c18-855b-c944130b35ff",
   "metadata": {},
   "outputs": [
    {
     "name": "stdout",
     "output_type": "stream",
     "text": [
      "Number of rows with missing entries: 0\n"
     ]
    }
   ],
   "source": [
    "import pandas as pd\n",
    "\n",
    "def count_missing_rows():\n",
    "    # Load the merged CSV file\n",
    "    merged_df = pd.read_csv('merged2_updated_no_extra_rows.csv')\n",
    "    \n",
    "    # Count the rows with any missing entries (NaN)\n",
    "    missing_rows_count = merged_df.isnull().any(axis=1).sum()\n",
    "    \n",
    "    # Print the number of rows with missing entries\n",
    "    print(f\"Number of rows with missing entries: {missing_rows_count}\")\n",
    "\n",
    "# Run the function\n",
    "count_missing_rows()"
   ]
  },
  {
   "cell_type": "code",
   "execution_count": null,
   "id": "370db7cc-dcdf-4449-94c1-b5f9c73d0210",
   "metadata": {},
   "outputs": [],
   "source": [
    "import pandas as pd\n",
    "\n",
    "def count_missing_rows():\n",
    "    # Load the merged CSV file\n",
    "    merged_df = pd.read_csv('merging2.csv')\n",
    "    \n",
    "    # Count the rows with any missing entries (NaN)\n",
    "    missing_rows_count = merged_df.isnull().any(axis=1).sum()\n",
    "    \n",
    "    # Print the number of rows with missing entries\n",
    "    print(f\"Number of rows with missing entries: {missing_rows_count}\")\n",
    "\n",
    "# Run the function\n",
    "count_missing_rows()"
   ]
  },
  {
   "cell_type": "code",
   "execution_count": null,
   "id": "496e346d-fb94-48de-a71f-391af63c6e2a",
   "metadata": {},
   "outputs": [],
   "source": []
  }
 ],
 "metadata": {
  "kernelspec": {
   "display_name": "anaconda-ai-2024.04-py310",
   "language": "python",
   "name": "conda-env-anaconda-ai-2024.04-py310-py"
  },
  "language_info": {
   "codemirror_mode": {
    "name": "ipython",
    "version": 3
   },
   "file_extension": ".py",
   "mimetype": "text/x-python",
   "name": "python",
   "nbconvert_exporter": "python",
   "pygments_lexer": "ipython3",
   "version": "3.10.13"
  }
 },
 "nbformat": 4,
 "nbformat_minor": 5
}
